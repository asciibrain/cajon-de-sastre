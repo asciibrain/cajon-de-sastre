{
 "metadata": {
  "name": "",
  "signature": "sha256:d50b5931695f941108f5b456cab47840ef1e22111c9b354ab5310e37f5a51959"
 },
 "nbformat": 3,
 "nbformat_minor": 0,
 "worksheets": [
  {
   "cells": [
    {
     "cell_type": "markdown",
     "metadata": {},
     "source": [
      "# Description of the data set\n",
      "\n",
      "The data set for the multi-electrode motor cortex was obtained during an experiment in which a\n",
      "non-human primate with a **multi-electrode** chronically implanted in it's motor cortex.\n",
      "\n",
      "The primatee was asked to do a motor task.\n",
      "\n",
      "* hand to the center\n",
      "\n",
      "* target pops up\n",
      "\n",
      "* movement\n",
      "\n",
      "* reach the target\n",
      "\n",
      "* reset"
     ]
    },
    {
     "cell_type": "code",
     "collapsed": false,
     "input": [],
     "language": "python",
     "metadata": {},
     "outputs": []
    }
   ],
   "metadata": {}
  }
 ]
}
